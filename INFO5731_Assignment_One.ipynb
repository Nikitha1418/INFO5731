{
  "nbformat": 4,
  "nbformat_minor": 0,
  "metadata": {
    "colab": {
      "name": "INFO5731_Assignment_One.ipynb",
      "provenance": [],
      "collapsed_sections": [],
      "include_colab_link": true
    },
    "kernelspec": {
      "name": "python3",
      "display_name": "Python 3"
    }
  },
  "cells": [
    {
      "cell_type": "markdown",
      "metadata": {
        "id": "view-in-github",
        "colab_type": "text"
      },
      "source": [
        "<a href=\"https://colab.research.google.com/github/Nikitha1418/INFO5731/blob/master/INFO5731_Assignment_One.ipynb\" target=\"_parent\"><img src=\"https://colab.research.google.com/assets/colab-badge.svg\" alt=\"Open In Colab\"/></a>"
      ]
    },
    {
      "cell_type": "markdown",
      "metadata": {
        "id": "Ryk8D1Q4Wsrp",
        "colab_type": "text"
      },
      "source": [
        "# **INFO5731 Assignment One**"
      ]
    },
    {
      "cell_type": "markdown",
      "metadata": {
        "id": "90_NR8c5XGWc",
        "colab_type": "text"
      },
      "source": [
        "# Question 1\n",
        "\n",
        "(20 points). Write a Python program to generate 12 random numbers between 1 and 100. Sort the list of numbers in ascending order and print it out. Sort the list of numbers in descending order and print it out. Calculate the average for the group and print it out."
      ]
    },
    {
      "cell_type": "code",
      "metadata": {
        "id": "5QX6bJjGWXY9",
        "colab_type": "code",
        "colab": {
          "base_uri": "https://localhost:8080/",
          "height": 84
        },
        "outputId": "e6846f36-c0a1-44c7-b2be-b905cbb50aa6"
      },
      "source": [
        "import random as r\n",
        "n=12\n",
        "l=[]\n",
        "x=0\n",
        "for i in range(n):\n",
        "    x=r.randint(1,100)\n",
        "    l.append(x)\n",
        "print(\"Random numbers: \", l)\n",
        "l.sort()\n",
        "print(\"Sorted list Ascending order: \",l)\n",
        "l.sort(reverse=True)\n",
        "print(\"Sorted list Descending order: \",l)\n",
        "print(\"Average : \",sum(l)/n)\n"
      ],
      "execution_count": 3,
      "outputs": [
        {
          "output_type": "stream",
          "text": [
            "Random numbers:  [82, 56, 28, 63, 69, 12, 70, 94, 47, 79, 32, 72]\n",
            "Sorted list Ascending order:  [12, 28, 32, 47, 56, 63, 69, 70, 72, 79, 82, 94]\n",
            "Sorted list Descending order:  [94, 82, 79, 72, 70, 69, 63, 56, 47, 32, 28, 12]\n",
            "Average :  58.666666666666664\n"
          ],
          "name": "stdout"
        }
      ]
    },
    {
      "cell_type": "markdown",
      "metadata": {
        "id": "1F_PZdH9Sh49",
        "colab_type": "text"
      },
      "source": [
        "# Question 2\n",
        "(25 points). Write a program that will do the following string formatting tasks:\n",
        "\n",
        "(1) Ask the user to enter two sentences.\n",
        "\n",
        "(2) Make each sentence into a list. Each element in the list should correspond to a word in the sentence. For example, if the sentence is \"Alas! Am I alive? This is my first python program\", the program should print out ['Alas, '!', 'Am', 'I', 'alive, '?', 'This', 'is', 'my', 'first', 'python', 'program'].\n",
        "\n",
        "(3) Compare the two sentences. Print out a list of words that occur in both sentences.\n",
        "\n",
        "(4) Remove any punctuation from the sentence and print it back out. It should remove at least the following characters, but it can remove more: period(“.”), comma (“,”), semicolon (“;”), and colon (“:”)\n",
        "\n",
        "(5) Count the number of vowels in the sentences. Print out each vowel and the number of times it appears in the sentences, such as: a:2, e:1, i:0, etc"
      ]
    },
    {
      "cell_type": "code",
      "metadata": {
        "id": "Y0oOSlsOS0cq",
        "colab_type": "code",
        "colab": {
          "base_uri": "https://localhost:8080/",
          "height": 50
        },
        "outputId": "9bee94ed-2daf-4090-c4aa-d13fc262776a"
      },
      "source": [
        "# Your code here\n",
        "\n",
        "#q1\n",
        "input1 = input(\"Enter input1 : \")\n",
        "input2 = input(\"Enter input2 : \")"
      ],
      "execution_count": 4,
      "outputs": [
        {
          "output_type": "stream",
          "text": [
            "Enter input1 : Royal: Challengers Bangalore.!\n",
            "Enter input2 : Virat Kohli Bangalore;/\n"
          ],
          "name": "stdout"
        }
      ]
    },
    {
      "cell_type": "code",
      "metadata": {
        "id": "g9i0flAB3WN_",
        "colab_type": "code",
        "colab": {
          "base_uri": "https://localhost:8080/",
          "height": 50
        },
        "outputId": "c88f3965-d772-4158-823d-d0526dfea3d2"
      },
      "source": [
        "#q2\n",
        "import re\n",
        "\n",
        "list1 = re.compile(r'\\w+|[^\\w\\s]').findall(input1)\n",
        "list2 = re.compile(r'\\w+|[^\\w\\s]').findall(input2)\n",
        "\n",
        "print(\"The list of words for input 1 :\",list1)\n",
        "print(\"The list of words for input 2 :\",list2)"
      ],
      "execution_count": 5,
      "outputs": [
        {
          "output_type": "stream",
          "text": [
            "The list of words for input 1 : ['Royal', ':', 'Challengers', 'Bangalore', '.', '!']\n",
            "The list of words for input 2 : ['Virat', 'Kohli', 'Bangalore', ';', '/']\n"
          ],
          "name": "stdout"
        }
      ]
    },
    {
      "cell_type": "code",
      "metadata": {
        "id": "cA9Tmd-84-OJ",
        "colab_type": "code",
        "colab": {
          "base_uri": "https://localhost:8080/",
          "height": 34
        },
        "outputId": "e409bf80-ca9b-4109-a1c2-817de3464cda"
      },
      "source": [
        "#q3\n",
        "\n",
        "print(\"common words : \", set(list1).intersection(set(list2)))\n",
        "\n"
      ],
      "execution_count": 6,
      "outputs": [
        {
          "output_type": "stream",
          "text": [
            "common words :  {'Bangalore'}\n"
          ],
          "name": "stdout"
        }
      ]
    },
    {
      "cell_type": "code",
      "metadata": {
        "id": "PGfJaS1w5OMU",
        "colab_type": "code",
        "colab": {
          "base_uri": "https://localhost:8080/",
          "height": 50
        },
        "outputId": "73eb0e43-6a6b-4a97-e696-c4090c31f8bf"
      },
      "source": [
        "#q4\n",
        "import string\n",
        "def remove_punctuation(ip):\n",
        "\n",
        "  return ip.translate(str.maketrans('','',string.punctuation))\n",
        "\n",
        "\n",
        "print(\"Input1 after removing punctuations : \",remove_punctuation(input1))\n",
        "print(\"Input2 after removing punctuations : \",remove_punctuation(input2))\n"
      ],
      "execution_count": 7,
      "outputs": [
        {
          "output_type": "stream",
          "text": [
            "Input1 after removing punctuations :  Royal Challengers Bangalore\n",
            "Input2 after removing punctuations :  Virat Kohli Bangalore\n"
          ],
          "name": "stdout"
        }
      ]
    },
    {
      "cell_type": "code",
      "metadata": {
        "id": "9L6d50Nd6AJU",
        "colab_type": "code",
        "colab": {
          "base_uri": "https://localhost:8080/",
          "height": 50
        },
        "outputId": "c13c1281-f061-4344-9531-0ae042eef2c8"
      },
      "source": [
        "#q5\n",
        "def compute(ip):\n",
        "  letters = \"a,e,i,o,u\"\n",
        "  list_letters = letters.split(\",\")\n",
        "  res = []\n",
        "  val = []\n",
        "  for i in list_letters:\n",
        "    j = ip.count(i)\n",
        "    if(j>0):\n",
        "      res.append(i)\n",
        "      val.append(j)\n",
        "  return dict(zip(res,val))\n",
        "\n",
        "print(\"Number of vowels in input 1 : \",compute(input1))\n",
        "print(\"Number of vowels in input 2 : \",compute(input2))"
      ],
      "execution_count": 8,
      "outputs": [
        {
          "output_type": "stream",
          "text": [
            "Number of vowels in input 1 :  {'a': 4, 'e': 3, 'o': 2}\n",
            "Number of vowels in input 2 :  {'a': 3, 'e': 1, 'i': 2, 'o': 2}\n"
          ],
          "name": "stdout"
        }
      ]
    },
    {
      "cell_type": "markdown",
      "metadata": {
        "id": "CmFoI4jDS9nx",
        "colab_type": "text"
      },
      "source": [
        "# Question 3 \n",
        "\n",
        "(15 points). The formula that describes the volume V of a sphere with radius r is the following:\n",
        "\n",
        "$ V=\\frac{4}{3}\\ast\\ \\pi\\ast\\ r^3 $\n",
        "\n",
        "Write a program to calculate the value of V when r is in the range of 1–10. Output the result in the following format:\n",
        "\n",
        "\tr\tV\n",
        "\t1\t…\n",
        "\t2\t…\n",
        "\t3\t…\n"
      ]
    },
    {
      "cell_type": "code",
      "metadata": {
        "id": "pEyqeioAT95b",
        "colab_type": "code",
        "colab": {
          "base_uri": "https://localhost:8080/",
          "height": 202
        },
        "outputId": "e1fbbd9f-247a-489c-ad1f-5e5b100a37a8"
      },
      "source": [
        "import math\n",
        "pi=math.pi\n",
        "x=4/3\n",
        "print(\"r\"+\"  V\")\n",
        "for i in range(1,11):\n",
        "    r=i*i*i\n",
        "    v=x*pi*r\n",
        "    print(i,\"\",round(v,2))"
      ],
      "execution_count": 9,
      "outputs": [
        {
          "output_type": "stream",
          "text": [
            "r  V\n",
            "1  4.19\n",
            "2  33.51\n",
            "3  113.1\n",
            "4  268.08\n",
            "5  523.6\n",
            "6  904.78\n",
            "7  1436.76\n",
            "8  2144.66\n",
            "9  3053.63\n",
            "10  4188.79\n"
          ],
          "name": "stdout"
        }
      ]
    },
    {
      "cell_type": "code",
      "metadata": {
        "id": "pMCr3l8tnu0j",
        "colab_type": "code",
        "colab": {}
      },
      "source": [
        ""
      ],
      "execution_count": null,
      "outputs": []
    },
    {
      "cell_type": "markdown",
      "metadata": {
        "id": "z3tBE7E-Xn5X",
        "colab_type": "text"
      },
      "source": [
        "# Question 4\n",
        "\n",
        "(40 points). In the field of Data Science, data is often formatted as a comma-delimited (CSV) file, where each line in a file corresponds to a field's value. Refer to Chapter 9 (p. 106) for more information on comma-delimited files. To answer this question, you will need to download the file [Assignment1_denton_housing.csv](https://github.com/unt-iialab/INFO5731_FALL2020/blob/master/Assignments/Assignment1_denton_housing.csv) included with this assignment. The [file Assignment1_denton_housing.csv](https://github.com/unt-iialab/INFO5731_FALL2020/blob/master/Assignments/Assignment1_denton_housing.csv) contains statistics about housing in the city of Denton from 2008 to 2014. Write a program to implement the following questions.\n",
        "\n",
        "(1) (10 pts) Calculate the difference in the number of Occupied Housing Units from year to year and print it. The difference must be calculated for the consecutive years such as 2008-2009, 2009-2010 etc. Finally, print the values in the ascending order.\n",
        "\n",
        "(2) (10 pts) For all the years, calculate the percentage of housing units which are vacant an occupied. Print the results in the following format:\n",
        "\n",
        "Year Vacant Housing Units Occupied Housing Units\n",
        "\n",
        "    2008  30%   70%                          \n",
        "\t2009 ----- -----\n",
        "\t2010 ----- -----\n",
        "    2011 ----- -----\n",
        "\t2012 ----- -----\n",
        "    2013 ----- -----\n",
        "\t2014 ----- -----\n",
        "  \n",
        "  \n",
        "\n",
        "(3) (10 pts) Calculate and print the valued and years in which the highest number of housing units were vacant and occupied. Print the results in the following format:  \n",
        "\n",
        "                              Year\tValue\n",
        "\tVacant Housing Units\t  -----   -----\n",
        "\tOccupied Housing Units\t-----   -----\n",
        "\n",
        "(4) (10 pts) Calculate the harmonic mean of the total housing units and print it out. You can find the information about harmonic mean here: https://ncalculators.com/statistics/harmonic-mean-calculator.htm"
      ]
    },
    {
      "cell_type": "code",
      "metadata": {
        "id": "lqGYuHBhcsRH",
        "colab_type": "code",
        "colab": {
          "base_uri": "https://localhost:8080/",
          "height": 151
        },
        "outputId": "aa919c4d-feaa-401e-ccd1-c23d1479b68d"
      },
      "source": [
        "#q1\n",
        "import pandas as pd\n",
        "\n",
        "df = pd.read_csv('https://raw.githubusercontent.com/unt-iialab/INFO5731_FALL2020/master/Assignments/Assignment1_denton_housing.csv')#change the file name to given file name....\n",
        "filtered_df = df[df['title_field']=='Occupied Housing Units'].sort_values(by=['year'])\n",
        "filtered_df['value'].diff().sort_values()"
      ],
      "execution_count": 33,
      "outputs": [
        {
          "output_type": "execute_result",
          "data": {
            "text/plain": [
              "17    -795.0\n",
              "11    -303.0\n",
              "8     1404.0\n",
              "5     1565.0\n",
              "2     2622.0\n",
              "14    5091.0\n",
              "20       NaN\n",
              "Name: value, dtype: float64"
            ]
          },
          "metadata": {
            "tags": []
          },
          "execution_count": 33
        }
      ]
    },
    {
      "cell_type": "code",
      "metadata": {
        "id": "-uvHnbrMzuTp",
        "colab_type": "code",
        "colab": {
          "base_uri": "https://localhost:8080/",
          "height": 254
        },
        "outputId": "04a03096-729e-4ec7-a781-3ba42f52607b"
      },
      "source": [
        "#q2\n",
        "list_of_occupied_values = df[df['title_field']=='Occupied Housing Units'].sort_values(by=['year'])['value'].tolist()\n",
        "list_of_vacant_values = df[df['title_field']=='Vacant Housing Units'].sort_values(by=['year'])['value'].tolist()\n",
        "list_of_total_values = df[df['title_field']=='Total Housing Units'].sort_values(by=['year'])['value'].tolist()\n",
        "percentage_of_occupied =  [str((i/j) * 100) + '%' for i, j in zip(list_of_occupied_values, list_of_total_values)]\n",
        "percentage_of_vacant =  [str((i/j) * 100) + '%' for i, j in zip(list_of_vacant_values, list_of_total_values)]\n",
        "output = pd.DataFrame (list(zip(df[df['title_field']=='Occupied Housing Units'].sort_values(by=['year'])['year'].tolist(),percentage_of_vacant,percentage_of_occupied)),columns=['Year','Vacant Housing Units','Occupied Housing Units'])\n",
        "output"
      ],
      "execution_count": 35,
      "outputs": [
        {
          "output_type": "execute_result",
          "data": {
            "text/html": [
              "<div>\n",
              "<style scoped>\n",
              "    .dataframe tbody tr th:only-of-type {\n",
              "        vertical-align: middle;\n",
              "    }\n",
              "\n",
              "    .dataframe tbody tr th {\n",
              "        vertical-align: top;\n",
              "    }\n",
              "\n",
              "    .dataframe thead th {\n",
              "        text-align: right;\n",
              "    }\n",
              "</style>\n",
              "<table border=\"1\" class=\"dataframe\">\n",
              "  <thead>\n",
              "    <tr style=\"text-align: right;\">\n",
              "      <th></th>\n",
              "      <th>Year</th>\n",
              "      <th>Vacant Housing Units</th>\n",
              "      <th>Occupied Housing Units</th>\n",
              "    </tr>\n",
              "  </thead>\n",
              "  <tbody>\n",
              "    <tr>\n",
              "      <th>0</th>\n",
              "      <td>2008</td>\n",
              "      <td>10.88265281351653%</td>\n",
              "      <td>89.11734718648347%</td>\n",
              "    </tr>\n",
              "    <tr>\n",
              "      <th>1</th>\n",
              "      <td>2009</td>\n",
              "      <td>9.07111572444872%</td>\n",
              "      <td>90.92888427555128%</td>\n",
              "    </tr>\n",
              "    <tr>\n",
              "      <th>2</th>\n",
              "      <td>2010</td>\n",
              "      <td>8.142556337081672%</td>\n",
              "      <td>91.85744366291833%</td>\n",
              "    </tr>\n",
              "    <tr>\n",
              "      <th>3</th>\n",
              "      <td>2011</td>\n",
              "      <td>9.379522229890688%</td>\n",
              "      <td>90.6204777701093%</td>\n",
              "    </tr>\n",
              "    <tr>\n",
              "      <th>4</th>\n",
              "      <td>2012</td>\n",
              "      <td>6.677600230491346%</td>\n",
              "      <td>93.32239976950866%</td>\n",
              "    </tr>\n",
              "    <tr>\n",
              "      <th>5</th>\n",
              "      <td>2013</td>\n",
              "      <td>8.801787504176412%</td>\n",
              "      <td>91.19821249582358%</td>\n",
              "    </tr>\n",
              "    <tr>\n",
              "      <th>6</th>\n",
              "      <td>2014</td>\n",
              "      <td>5.730110570363885%</td>\n",
              "      <td>94.26988942963611%</td>\n",
              "    </tr>\n",
              "  </tbody>\n",
              "</table>\n",
              "</div>"
            ],
            "text/plain": [
              "   Year Vacant Housing Units Occupied Housing Units\n",
              "0  2008   10.88265281351653%     89.11734718648347%\n",
              "1  2009    9.07111572444872%     90.92888427555128%\n",
              "2  2010   8.142556337081672%     91.85744366291833%\n",
              "3  2011   9.379522229890688%      90.6204777701093%\n",
              "4  2012   6.677600230491346%     93.32239976950866%\n",
              "5  2013   8.801787504176412%     91.19821249582358%\n",
              "6  2014   5.730110570363885%     94.26988942963611%"
            ]
          },
          "metadata": {
            "tags": []
          },
          "execution_count": 35
        }
      ]
    },
    {
      "cell_type": "code",
      "metadata": {
        "id": "4X9RPTjOxQSL",
        "colab_type": "code",
        "colab": {
          "base_uri": "https://localhost:8080/",
          "height": 67
        },
        "outputId": "636d2a6d-009b-4853-f08d-6767dd84da7f"
      },
      "source": [
        "#q3\n",
        "df_of_occupied_values = df[df['title_field']=='Occupied Housing Units']\n",
        "df_of_vacant_values = df[df['title_field']=='Vacant Housing Units']\n",
        "max_occupied = df_of_occupied_values[df_of_occupied_values['value']==df_of_occupied_values[\"value\"].max()]\n",
        "max_vacant = df_of_vacant_values[df_of_vacant_values['value']==df_of_vacant_values[\"value\"].max()]\n",
        "contact_df = pd.concat([max_occupied, max_vacant])\n",
        "print(contact_df[['title_field','year','value']])"
      ],
      "execution_count": 42,
      "outputs": [
        {
          "output_type": "stream",
          "text": [
            "               title_field  year  value\n",
            "2   Occupied Housing Units  2014  46295\n",
            "19    Vacant Housing Units  2008   4483\n"
          ],
          "name": "stdout"
        }
      ]
    },
    {
      "cell_type": "code",
      "metadata": {
        "id": "-YqKAMrlxSFv",
        "colab_type": "code",
        "colab": {
          "base_uri": "https://localhost:8080/",
          "height": 34
        },
        "outputId": "67dfe912-71cb-49ac-af93-5d3d65c7dfe6"
      },
      "source": [
        "#q4\n",
        "from scipy.stats import hmean\n",
        "hmean(list_of_total_values)"
      ],
      "execution_count": 43,
      "outputs": [
        {
          "output_type": "execute_result",
          "data": {
            "text/plain": [
              "44398.28543969185"
            ]
          },
          "metadata": {
            "tags": []
          },
          "execution_count": 43
        }
      ]
    },
    {
      "cell_type": "code",
      "metadata": {
        "id": "PDPQshzhxZgm",
        "colab_type": "code",
        "colab": {}
      },
      "source": [
        ""
      ],
      "execution_count": null,
      "outputs": []
    }
  ]
}