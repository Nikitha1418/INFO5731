{
  "nbformat": 4,
  "nbformat_minor": 0,
  "metadata": {
    "kernelspec": {
      "display_name": "Python 3",
      "language": "python",
      "name": "python3"
    },
    "language_info": {
      "codemirror_mode": {
        "name": "ipython",
        "version": 3
      },
      "file_extension": ".py",
      "mimetype": "text/x-python",
      "name": "python",
      "nbconvert_exporter": "python",
      "pygments_lexer": "ipython3",
      "version": "3.7.4"
    },
    "colab": {
      "name": "In_class_exercise_03.ipynb",
      "provenance": [],
      "include_colab_link": true
    }
  },
  "cells": [
    {
      "cell_type": "markdown",
      "metadata": {
        "id": "view-in-github",
        "colab_type": "text"
      },
      "source": [
        "<a href=\"https://colab.research.google.com/github/Nikitha1418/INFO5731/blob/master/In_class_exercise_03.ipynb\" target=\"_parent\"><img src=\"https://colab.research.google.com/assets/colab-badge.svg\" alt=\"Open In Colab\"/></a>"
      ]
    },
    {
      "cell_type": "markdown",
      "metadata": {
        "id": "TCtR999DHV9I",
        "colab_type": "text"
      },
      "source": [
        "## The third In-class-exercise (9/16/2020, 20 points in total)"
      ]
    },
    {
      "cell_type": "markdown",
      "metadata": {
        "id": "t3TDTX0SHV9J",
        "colab_type": "text"
      },
      "source": [
        "The purpose of this exercise is to under users' information needs, then collect the data for analysis."
      ]
    },
    {
      "cell_type": "markdown",
      "metadata": {
        "id": "vLoVMjb3HV9K",
        "colab_type": "text"
      },
      "source": [
        "Question 1 (8 points): Describe an interesting research question (or practical question) you have in mind, what kind of data should be collected to answer the question(s)? How many data needed for the analysis? The detail steps for collecting and save the data. "
      ]
    },
    {
      "cell_type": "code",
      "metadata": {
        "id": "0DoB5YxiHV9L",
        "colab_type": "code",
        "colab": {}
      },
      "source": [
        "# Your answer here (no code for this question, write down your answer as detail as possible for the above questions):\n",
        "\n",
        "'''\n",
        "Please write you answer here:\n",
        "\n",
        "Goal : My research question is to find out the IMDB meta-score(ratings)of the movies for the particular genre.\n",
        "Data Collection : Coming to the data Collection we need to have the data of the top 500 IMDB Ratings of the movies that have been given according to the genre and the total runtime of the movie.\n",
        "Here,  IMDB Top 1000 ratings website shows us all the details that needs to be found in the research question so i have used this website for the webscrapping.\n",
        "\n",
        "Steps for Collecting and Saving the Data:\n",
        "\n",
        "Beautiful Soup helps us to  pull particular content from a webpage so, i have used this to extract the content from my website.\n",
        "I wanted to collect 'Movie Title', 'Genre', 'Run Time', 'Meta Score' using class.\n",
        "I have created an empty list and append the collected data into the list. \n",
        "Then i have created a dataframe form the list and converted into csv file.\n",
        "\n",
        "\n",
        "\n",
        "'''"
      ],
      "execution_count": null,
      "outputs": []
    },
    {
      "cell_type": "markdown",
      "metadata": {
        "id": "9O7m3B1cHV9O",
        "colab_type": "text"
      },
      "source": [
        "Question 2 (12 points): Write python code to collect 500 items of the data you plan to collect above."
      ]
    },
    {
      "cell_type": "code",
      "metadata": {
        "id": "SwsExIJBHV9P",
        "colab_type": "code",
        "colab": {
          "base_uri": "https://localhost:8080/",
          "height": 418
        },
        "outputId": "949c79f8-501a-4d62-ba9a-9d08665b8fcd"
      },
      "source": [
        "import re\n",
        "import requests\n",
        "from bs4 import BeautifulSoup\n",
        "import pandas as pd\n",
        "pagenumber = 101\n",
        "title = []\n",
        "genre = [] \n",
        "time = []\n",
        "metascore = []\n",
        "for k in range(7):\n",
        "  page_link = 'https://www.imdb.com/search/title/?groups=top_1000&sort=user_rating,desc&count=100&start=' + str(pagenumber) + '&ref_=adv_nxt' #Providing the link for the website\n",
        "  page = requests.get(page_link) #Accessing to the website we wanted to webscrap\n",
        "  soup = BeautifulSoup(page.text, 'html.parser')\n",
        "  soup.find_all(\"a\", href=re.compile(\"title/tt\"))\n",
        "  #Getting the details of the movie title, genre, runtime and the metascore.\n",
        "  movie_title = soup.find_all(\"a\", href=lambda href: href and \"title/tt\" in href)\n",
        "  movie_genre = soup.find_all(class_='genre')\n",
        "  movie_time = soup.find_all(class_='runtime')\n",
        "  movie_meatscore = soup.find_all(class_='metascore')\n",
        "  for ele in movie_title:\n",
        "    if ele.text is not None and ele.text != 'X' and ele.text != ' \\n':\n",
        "      title.append(ele.text)\n",
        "  for i in movie_genre:\n",
        "    genre.append((i.text.replace('\\n','')).strip())\n",
        "  for item in movie_time:\n",
        "    time.append(item.text)\n",
        "  for j in movie_meatscore:\n",
        "    metascore.append(j.text) #Appending the collected data\n",
        "  pagenumber = pagenumber + 100\n",
        "movie_df = pd.DataFrame(list(zip(title, genre, time, metascore)), #Creating an dataframe and converting into csv.\n",
        "               columns =['Movie Title', 'Genre', 'Run Time', 'Meta Score'])\n",
        "print(len(movie_df))\n",
        "movie_df.to_csv('movies.csv', index=False)\n",
        "movie_df\n"
      ],
      "execution_count": null,
      "outputs": [
        {
          "output_type": "stream",
          "text": [
            "574\n"
          ],
          "name": "stdout"
        },
        {
          "output_type": "execute_result",
          "data": {
            "text/html": [
              "<div>\n",
              "<style scoped>\n",
              "    .dataframe tbody tr th:only-of-type {\n",
              "        vertical-align: middle;\n",
              "    }\n",
              "\n",
              "    .dataframe tbody tr th {\n",
              "        vertical-align: top;\n",
              "    }\n",
              "\n",
              "    .dataframe thead th {\n",
              "        text-align: right;\n",
              "    }\n",
              "</style>\n",
              "<table border=\"1\" class=\"dataframe\">\n",
              "  <thead>\n",
              "    <tr style=\"text-align: right;\">\n",
              "      <th></th>\n",
              "      <th>Movie Title</th>\n",
              "      <th>Genre</th>\n",
              "      <th>Run Time</th>\n",
              "      <th>Meta Score</th>\n",
              "    </tr>\n",
              "  </thead>\n",
              "  <tbody>\n",
              "    <tr>\n",
              "      <th>0</th>\n",
              "      <td>Children of Heaven</td>\n",
              "      <td>Drama, Family, Sport</td>\n",
              "      <td>89 min</td>\n",
              "      <td>77</td>\n",
              "    </tr>\n",
              "    <tr>\n",
              "      <th>1</th>\n",
              "      <td>Toy Story</td>\n",
              "      <td>Animation, Adventure, Comedy</td>\n",
              "      <td>81 min</td>\n",
              "      <td>95</td>\n",
              "    </tr>\n",
              "    <tr>\n",
              "      <th>2</th>\n",
              "      <td>Braveheart</td>\n",
              "      <td>Biography, Drama, History</td>\n",
              "      <td>178 min</td>\n",
              "      <td>68</td>\n",
              "    </tr>\n",
              "    <tr>\n",
              "      <th>3</th>\n",
              "      <td>Reservoir Dogs</td>\n",
              "      <td>Crime, Drama, Thriller</td>\n",
              "      <td>99 min</td>\n",
              "      <td>79</td>\n",
              "    </tr>\n",
              "    <tr>\n",
              "      <th>4</th>\n",
              "      <td>Full Metal Jacket</td>\n",
              "      <td>Drama, War</td>\n",
              "      <td>116 min</td>\n",
              "      <td>76</td>\n",
              "    </tr>\n",
              "    <tr>\n",
              "      <th>...</th>\n",
              "      <td>...</td>\n",
              "      <td>...</td>\n",
              "      <td>...</td>\n",
              "      <td>...</td>\n",
              "    </tr>\n",
              "    <tr>\n",
              "      <th>569</th>\n",
              "      <td>The Killer</td>\n",
              "      <td>Crime, Drama, History</td>\n",
              "      <td>128 min</td>\n",
              "      <td>90</td>\n",
              "    </tr>\n",
              "    <tr>\n",
              "      <th>570</th>\n",
              "      <td>Back to the Future Part II</td>\n",
              "      <td>Action, Adventure, Sci-Fi</td>\n",
              "      <td>107 min</td>\n",
              "      <td>67</td>\n",
              "    </tr>\n",
              "    <tr>\n",
              "      <th>571</th>\n",
              "      <td>Mississippi Burning</td>\n",
              "      <td>Action, Comedy, Fantasy</td>\n",
              "      <td>84 min</td>\n",
              "      <td>52</td>\n",
              "    </tr>\n",
              "    <tr>\n",
              "      <th>572</th>\n",
              "      <td>Predator</td>\n",
              "      <td>Comedy</td>\n",
              "      <td>103 min</td>\n",
              "      <td>73</td>\n",
              "    </tr>\n",
              "    <tr>\n",
              "      <th>573</th>\n",
              "      <td>Evil Dead II</td>\n",
              "      <td>Comedy, Crime, Drama</td>\n",
              "      <td>107 min</td>\n",
              "      <td>76</td>\n",
              "    </tr>\n",
              "  </tbody>\n",
              "</table>\n",
              "<p>574 rows × 4 columns</p>\n",
              "</div>"
            ],
            "text/plain": [
              "                    Movie Title  ...  Meta Score\n",
              "0            Children of Heaven  ...  77        \n",
              "1                     Toy Story  ...  95        \n",
              "2                    Braveheart  ...  68        \n",
              "3                Reservoir Dogs  ...  79        \n",
              "4             Full Metal Jacket  ...  76        \n",
              "..                          ...  ...         ...\n",
              "569                  The Killer  ...  90        \n",
              "570  Back to the Future Part II  ...  67        \n",
              "571         Mississippi Burning  ...  52        \n",
              "572                    Predator  ...  73        \n",
              "573                Evil Dead II  ...  76        \n",
              "\n",
              "[574 rows x 4 columns]"
            ]
          },
          "metadata": {
            "tags": []
          },
          "execution_count": 2
        }
      ]
    },
    {
      "cell_type": "code",
      "metadata": {
        "id": "JNJsgW5Twjpv",
        "colab_type": "code",
        "colab": {}
      },
      "source": [
        ""
      ],
      "execution_count": null,
      "outputs": []
    }
  ]
}