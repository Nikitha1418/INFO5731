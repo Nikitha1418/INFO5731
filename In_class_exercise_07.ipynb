{
  "nbformat": 4,
  "nbformat_minor": 0,
  "metadata": {
    "kernelspec": {
      "display_name": "Python 3",
      "language": "python",
      "name": "python3"
    },
    "language_info": {
      "codemirror_mode": {
        "name": "ipython",
        "version": 3
      },
      "file_extension": ".py",
      "mimetype": "text/x-python",
      "name": "python",
      "nbconvert_exporter": "python",
      "pygments_lexer": "ipython3",
      "version": "3.7.4"
    },
    "colab": {
      "name": "In_class_exercise_07.ipynb",
      "provenance": [],
      "toc_visible": true,
      "include_colab_link": true
    }
  },
  "cells": [
    {
      "cell_type": "markdown",
      "metadata": {
        "id": "view-in-github",
        "colab_type": "text"
      },
      "source": [
        "<a href=\"https://colab.research.google.com/github/Nikitha1418/INFO5731/blob/master/In_class_exercise_07.ipynb\" target=\"_parent\"><img src=\"https://colab.research.google.com/assets/colab-badge.svg\" alt=\"Open In Colab\"/></a>"
      ]
    },
    {
      "cell_type": "markdown",
      "metadata": {
        "id": "mvqDCSN_TR0G"
      },
      "source": [
        "# **The seventh in-class-exercise (20 points in total, 10/21/2020)**"
      ]
    },
    {
      "cell_type": "markdown",
      "metadata": {
        "id": "Yu5WS3bRTR0H"
      },
      "source": [
        "Question description: In the last in-class-exercise (exercise-06), you collected the titles of 100 articles about data science, natural language processing, and machine learning. The 100 article titles will be used as the text corpus of this exercise. Perform the following tasks:"
      ]
    },
    {
      "cell_type": "markdown",
      "metadata": {
        "id": "PDWeidX7TR0I"
      },
      "source": [
        "## (1) (8 points) Generate K topics by using LDA, the number of topics K should be decided by the coherence score, then summarize what are the topics. You may refer the code here: \n",
        "\n",
        "https://www.machinelearningplus.com/nlp/topic-modeling-gensim-python/"
      ]
    },
    {
      "cell_type": "code",
      "metadata": {
        "id": "YGhK6H4xTR0I"
      },
      "source": [
        "# Write your code here\n",
        "import re\n",
        "import os\n",
        "import numpy as np\n",
        "import pandas as pd\n",
        "from pprint import pprint\n",
        "\n",
        "# Gensim\n",
        "import gensim\n",
        "import gensim.corpora as corpora\n",
        "from gensim.utils import simple_preprocess\n",
        "from gensim.models import CoherenceModel\n",
        "\n",
        "# spacy for lemmatization\n",
        "import spacy\n",
        "\n",
        "# Plotting tools\n",
        "import pyLDAvis\n",
        "import pyLDAvis.gensim  # don't skip this\n",
        "import matplotlib.pyplot as plt\n",
        "%matplotlib inline\n",
        "\n",
        "# Enable logging for gensim - optional\n",
        "import logging\n",
        "logging.basicConfig(format='%(asctime)s : %(levelname)s : %(message)s', level=logging.ERROR)\n",
        "\n",
        "import warnings\n",
        "warnings.filterwarnings(\"ignore\",category=DeprecationWarning)\n",
        "\n"
      ],
      "execution_count": 7,
      "outputs": []
    },
    {
      "cell_type": "code",
      "metadata": {
        "id": "aVLHv6Re0Qwb"
      },
      "source": [
        "# NLTK Stop words\n",
        "from nltk.corpus import stopwords\n",
        "stop_words = stopwords.words('english')\n",
        "stop_words.extend(['from', 'subject', 're', 'edu', 'use'])"
      ],
      "execution_count": 8,
      "outputs": []
    },
    {
      "cell_type": "code",
      "metadata": {
        "id": "tJeFSnq00Rk4",
        "outputId": "45be2e46-905b-4dcb-f883-7dff8f89df51",
        "colab": {
          "base_uri": "https://localhost:8080/",
          "height": 252
        }
      },
      "source": [
        "df = pd.read_csv('/content/machine_learning.csv')\n",
        "print(df)"
      ],
      "execution_count": 9,
      "outputs": [
        {
          "output_type": "stream",
          "text": [
            "                                               Topics\n",
            "0                                    Machine Learning\n",
            "1                    Introduction to machine learning\n",
            "2            Scikit-learn: Machine learning in Python\n",
            "3            Pattern recognition and machine learning\n",
            "4                            Quantum machine learning\n",
            "..                                                ...\n",
            "95  Convolutional LSTM network: A machine learning...\n",
            "96  Machine learning classifiers and fMRI: a tutor...\n",
            "97  Flow clustering using machine learning techniques\n",
            "98  Practical black-box attacks against machine le...\n",
            "99  Federated machine learning: Concept and applic...\n",
            "\n",
            "[100 rows x 1 columns]\n"
          ],
          "name": "stdout"
        }
      ]
    },
    {
      "cell_type": "code",
      "metadata": {
        "id": "Vo9_TIAM0o8Y",
        "outputId": "7a958e39-3911-47f7-b2ff-9c6b6592234d",
        "colab": {
          "base_uri": "https://localhost:8080/",
          "height": 34
        }
      },
      "source": [
        "# Convert to list\n",
        "data = df['Topics'].tolist()\n",
        "\n",
        "# Remove Emails\n",
        "data = [re.sub('\\S*@\\S*\\s?', '', sent) for sent in data]\n",
        "\n",
        "# Remove new line characters\n",
        "data = [re.sub('\\s+', ' ', sent) for sent in data]\n",
        "\n",
        "# Remove distracting single quotes\n",
        "data = [re.sub(\"\\'\", \"\", sent) for sent in data]\n",
        "\n",
        "pprint(data[:1])"
      ],
      "execution_count": 10,
      "outputs": [
        {
          "output_type": "stream",
          "text": [
            "['Machine Learning']\n"
          ],
          "name": "stdout"
        }
      ]
    },
    {
      "cell_type": "code",
      "metadata": {
        "id": "wpRTktQ52vIl",
        "outputId": "69bdc321-2b34-4239-9bb9-d4a9d5f21dd2",
        "colab": {
          "base_uri": "https://localhost:8080/",
          "height": 34
        }
      },
      "source": [
        "def sent_to_words(sentences):\n",
        "    for sentence in sentences:\n",
        "        yield(gensim.utils.simple_preprocess(str(sentence), deacc=True))  # deacc=True removes punctuations\n",
        "\n",
        "data_words = list(sent_to_words(data))\n",
        "\n",
        "print(data_words[:1])"
      ],
      "execution_count": 11,
      "outputs": [
        {
          "output_type": "stream",
          "text": [
            "[['machine', 'learning']]\n"
          ],
          "name": "stdout"
        }
      ]
    },
    {
      "cell_type": "code",
      "metadata": {
        "id": "ZtDx9hqm2yEv",
        "outputId": "69aee073-6e8b-4355-ae4b-e45a4a57546d",
        "colab": {
          "base_uri": "https://localhost:8080/",
          "height": 34
        }
      },
      "source": [
        "# Build the bigram and trigram models\n",
        "bigram = gensim.models.Phrases(data_words, min_count=5, threshold=100) # higher threshold fewer phrases.\n",
        "trigram = gensim.models.Phrases(bigram[data_words], threshold=100)  \n",
        "\n",
        "# Faster way to get a sentence clubbed as a trigram/bigram\n",
        "bigram_mod = gensim.models.phrases.Phraser(bigram)\n",
        "trigram_mod = gensim.models.phrases.Phraser(trigram)\n",
        "\n",
        "# See trigram example\n",
        "print(trigram_mod[bigram_mod[data_words[0]]])"
      ],
      "execution_count": 12,
      "outputs": [
        {
          "output_type": "stream",
          "text": [
            "['machine', 'learning']\n"
          ],
          "name": "stdout"
        }
      ]
    },
    {
      "cell_type": "code",
      "metadata": {
        "id": "igENnO3221bg"
      },
      "source": [
        "# Define functions for stopwords, bigrams, trigrams and lemmatization\n",
        "def remove_stopwords(texts):\n",
        "    return [[word for word in simple_preprocess(str(doc)) if word not in stop_words] for doc in texts]\n",
        "\n",
        "def make_bigrams(texts):\n",
        "    return [bigram_mod[doc] for doc in texts]\n",
        "\n",
        "def make_trigrams(texts):\n",
        "    return [trigram_mod[bigram_mod[doc]] for doc in texts]\n",
        "\n",
        "def lemmatization(texts, allowed_postags=['NOUN', 'ADJ', 'VERB', 'ADV']):\n",
        "    \"\"\"https://spacy.io/api/annotation\"\"\"\n",
        "    texts_out = []\n",
        "    for sent in texts:\n",
        "        doc = nlp(\" \".join(sent)) \n",
        "        texts_out.append([token.lemma_ for token in doc if token.pos_ in allowed_postags])\n",
        "    return texts_out"
      ],
      "execution_count": 13,
      "outputs": []
    },
    {
      "cell_type": "code",
      "metadata": {
        "id": "fdWihrvF26sT",
        "outputId": "cd0c8129-a99c-4ed8-a3aa-d43a1f1eb603",
        "colab": {
          "base_uri": "https://localhost:8080/",
          "height": 34
        }
      },
      "source": [
        "# Remove Stop Words\n",
        "data_words_nostops = remove_stopwords(data_words)\n",
        "\n",
        "# Form Bigrams\n",
        "data_words_bigrams = make_bigrams(data_words_nostops)\n",
        "\n",
        "# Initialize spacy 'en' model, keeping only tagger component (for efficiency)\n",
        "# python3 -m spacy download en\n",
        "nlp = spacy.load('en', disable=['parser', 'ner'])\n",
        "\n",
        "# Do lemmatization keeping only noun, adj, vb, adv\n",
        "data_lemmatized = lemmatization(data_words_bigrams, allowed_postags=['NOUN', 'ADJ', 'VERB', 'ADV'])\n",
        "\n",
        "print(data_lemmatized[:1])"
      ],
      "execution_count": 14,
      "outputs": [
        {
          "output_type": "stream",
          "text": [
            "[['machine']]\n"
          ],
          "name": "stdout"
        }
      ]
    },
    {
      "cell_type": "code",
      "metadata": {
        "id": "2lG9CyTE3BR1",
        "outputId": "9b89c251-db82-4d69-a1d8-e2cea6d422e0",
        "colab": {
          "base_uri": "https://localhost:8080/",
          "height": 34
        }
      },
      "source": [
        "# Create Dictionary\n",
        "id2word = corpora.Dictionary(data_lemmatized)\n",
        "\n",
        "# Create Corpus\n",
        "texts = data_lemmatized\n",
        "\n",
        "# Term Document Frequency\n",
        "corpus = [id2word.doc2bow(text) for text in texts]\n",
        "\n",
        "# View\n",
        "print(corpus[:1])"
      ],
      "execution_count": 15,
      "outputs": [
        {
          "output_type": "stream",
          "text": [
            "[[(0, 1)]]\n"
          ],
          "name": "stdout"
        }
      ]
    },
    {
      "cell_type": "code",
      "metadata": {
        "id": "JJg3LysA3D_N",
        "outputId": "94bc9d6e-3188-4ca4-eca6-299615a8fa51",
        "colab": {
          "base_uri": "https://localhost:8080/",
          "height": 35
        }
      },
      "source": [
        "id2word[0]"
      ],
      "execution_count": 16,
      "outputs": [
        {
          "output_type": "execute_result",
          "data": {
            "application/vnd.google.colaboratory.intrinsic+json": {
              "type": "string"
            },
            "text/plain": [
              "'machine'"
            ]
          },
          "metadata": {
            "tags": []
          },
          "execution_count": 16
        }
      ]
    },
    {
      "cell_type": "code",
      "metadata": {
        "id": "mS_e3Ysz3Ltc",
        "outputId": "f11c4954-520a-4f10-fa70-d527d711a025",
        "colab": {
          "base_uri": "https://localhost:8080/",
          "height": 34
        }
      },
      "source": [
        "# Human readable format of corpus (term-frequency)\n",
        "[[(id2word[id], freq) for id, freq in cp] for cp in corpus[:1]]"
      ],
      "execution_count": 17,
      "outputs": [
        {
          "output_type": "execute_result",
          "data": {
            "text/plain": [
              "[[('machine', 1)]]"
            ]
          },
          "metadata": {
            "tags": []
          },
          "execution_count": 17
        }
      ]
    },
    {
      "cell_type": "code",
      "metadata": {
        "id": "Oseh1otB3OOm"
      },
      "source": [
        "# Build LDA model\n",
        "lda_model = gensim.models.ldamodel.LdaModel(corpus=corpus,\n",
        "                                           id2word=id2word,\n",
        "                                           num_topics=8, \n",
        "                                           random_state=100,\n",
        "                                           update_every=1,\n",
        "                                           chunksize=100,\n",
        "                                           passes=10,\n",
        "                                           alpha='auto',\n",
        "                                           per_word_topics=True)\n"
      ],
      "execution_count": 18,
      "outputs": []
    },
    {
      "cell_type": "code",
      "metadata": {
        "id": "9AyuK_ND3V1c",
        "outputId": "3b68d745-83a2-4c00-ff83-0086c01309ff",
        "colab": {
          "base_uri": "https://localhost:8080/",
          "height": 84
        }
      },
      "source": [
        "# Compute Perplexity\n",
        "print('\\nPerplexity: ', lda_model.log_perplexity(corpus))  # a measure of how good the model is. lower the better.\n",
        "\n",
        "# Compute Coherence Score\n",
        "coherence_model_lda = CoherenceModel(model=lda_model, texts=data_lemmatized, dictionary=id2word, coherence='c_v')\n",
        "coherence_lda = coherence_model_lda.get_coherence()\n",
        "print('\\nCoherence Score: ', coherence_lda)"
      ],
      "execution_count": 19,
      "outputs": [
        {
          "output_type": "stream",
          "text": [
            "\n",
            "Perplexity:  -4.75816310738616\n",
            "\n",
            "Coherence Score:  0.5919681274685648\n"
          ],
          "name": "stdout"
        }
      ]
    },
    {
      "cell_type": "code",
      "metadata": {
        "id": "GfsDzpaNGApW"
      },
      "source": [
        "os.environ['MALLET_HOME'] = '/content/mallet-2.0.8'\n",
        "mallet_path = '/content/mallet-2.0.8/bin/mallet'\n",
        "ldamallet = gensim.models.wrappers.LdaMallet(mallet_path, corpus=corpus, num_topics=20, id2word=id2word)"
      ],
      "execution_count": 20,
      "outputs": []
    },
    {
      "cell_type": "code",
      "metadata": {
        "id": "pSfbeiqQGM-r"
      },
      "source": [
        "def compute_coherence_values(dictionary, corpus, texts, limit, start=2, step=3):\n",
        "    coherence_values = []\n",
        "    model_list = []\n",
        "    for num_topics in range(start, limit, step):\n",
        "        model = gensim.models.wrappers.LdaMallet(mallet_path, corpus=corpus, num_topics=num_topics, id2word=id2word)\n",
        "        model_list.append(model)\n",
        "        coherencemodel = CoherenceModel(model=model, texts=texts, dictionary=dictionary, coherence='c_v')\n",
        "        coherence_values.append(coherencemodel.get_coherence())\n",
        "\n",
        "    return model_list, coherence_values"
      ],
      "execution_count": 21,
      "outputs": []
    },
    {
      "cell_type": "code",
      "metadata": {
        "id": "VxtnHx6gGUGG"
      },
      "source": [
        "model_list, coherence_values = compute_coherence_values(dictionary=id2word, corpus=corpus, texts=data_lemmatized, start=2, limit=40, step=6)"
      ],
      "execution_count": 22,
      "outputs": []
    },
    {
      "cell_type": "code",
      "metadata": {
        "id": "3Uwnov65HRc7",
        "outputId": "48663c63-370b-4341-f9db-19f08a867c86",
        "colab": {
          "base_uri": "https://localhost:8080/",
          "height": 281
        }
      },
      "source": [
        "limit=40; start=2; step=6;\n",
        "x = range(start, limit, step)\n",
        "plt.plot(x, coherence_values)\n",
        "plt.xlabel(\"Num Topics\")\n",
        "plt.ylabel(\"Coherence score\")\n",
        "plt.legend((\"coherence_values\"), loc='best')\n",
        "plt.show()"
      ],
      "execution_count": 23,
      "outputs": [
        {
          "output_type": "display_data",
          "data": {
            "image/png": "[encoded data removed]",
            "text/plain": [
              "<Figure size 432x288 with 1 Axes>"
            ]
          },
          "metadata": {
            "tags": [],
            "needs_background": "light"
          }
        }
      ]
    },
    {
      "cell_type": "code",
      "metadata": {
        "id": "R1B8AmNyHWB3",
        "outputId": "e62935d9-406e-4c97-a707-426e278f7041",
        "colab": {
          "base_uri": "https://localhost:8080/",
          "height": 134
        }
      },
      "source": [
        "for m, cv in zip(x, coherence_values):\n",
        "    print(\"Num Topics =\", m, \" has Coherence Value of\", round(cv, 4))"
      ],
      "execution_count": 24,
      "outputs": [
        {
          "output_type": "stream",
          "text": [
            "Num Topics = 2  has Coherence Value of 0.7149\n",
            "Num Topics = 8  has Coherence Value of 0.7575\n",
            "Num Topics = 14  has Coherence Value of 0.7264\n",
            "Num Topics = 20  has Coherence Value of 0.7125\n",
            "Num Topics = 26  has Coherence Value of 0.698\n",
            "Num Topics = 32  has Coherence Value of 0.7042\n",
            "Num Topics = 38  has Coherence Value of 0.6927\n"
          ],
          "name": "stdout"
        }
      ]
    },
    {
      "cell_type": "code",
      "metadata": {
        "id": "6KQdvIq_HeA1",
        "outputId": "4ca0db1d-2245-49e5-ab6e-bccd5d68df98",
        "colab": {
          "base_uri": "https://localhost:8080/",
          "height": 554
        }
      },
      "source": [
        "pprint(lda_model.print_topics())"
      ],
      "execution_count": 25,
      "outputs": [
        {
          "output_type": "stream",
          "text": [
            "[(0,\n",
            "  '0.048*\"nowcasting\" + 0.048*\"precipitation\" + 0.048*\"torch\" + '\n",
            "  '0.048*\"environment\" + 0.047*\"approach\" + 0.006*\"learning\" + 0.006*\"machine\" '\n",
            "  '+ 0.005*\"learn\" + 0.005*\"mining\" + 0.005*\"method\"'),\n",
            " (1,\n",
            "  '0.152*\"machine\" + 0.092*\"learn\" + 0.040*\"learning\" + 0.035*\"practical\" + '\n",
            "  '0.024*\"next\" + 0.024*\"network\" + 0.024*\"generation\" + 0.024*\"perspective\" + '\n",
            "  '0.023*\"technique\" + 0.014*\"use\"'),\n",
            " (2,\n",
            "  '0.274*\"machine\" + 0.215*\"learning\" + 0.021*\"method\" + 0.017*\"approach\" + '\n",
            "  '0.013*\"algorithm\" + 0.013*\"application\" + 0.013*\"process\" + '\n",
            "  '0.013*\"optimization\" + 0.009*\"system\" + 0.009*\"technique\"'),\n",
            " (3,\n",
            "  '0.156*\"machine\" + 0.126*\"learn\" + 0.052*\"survey\" + 0.052*\"system\" + '\n",
            "  '0.028*\"descent\" + 0.028*\"stochastic\" + 0.028*\"gradient\" + '\n",
            "  '0.028*\"bioinformatic\" + 0.028*\"imaging\" + 0.028*\"scale\"'),\n",
            " (4,\n",
            "  '0.034*\"address\" + 0.034*\"ethical\" + 0.034*\"implement\" + 0.034*\"care\" + '\n",
            "  '0.034*\"health\" + 0.034*\"artificial\" + 0.034*\"intelligence\" + '\n",
            "  '0.034*\"probabilistic\" + 0.034*\"supercomputer\" + 0.034*\"mining\"'),\n",
            " (5,\n",
            "  '0.087*\"learn\" + 0.076*\"selection\" + 0.076*\"feature\" + 0.066*\"machine\" + '\n",
            "  '0.031*\"high\" + 0.031*\"speed\" + 0.031*\"scikit\" + 0.031*\"base\" + '\n",
            "  '0.031*\"correlation\" + 0.031*\"corner\"'),\n",
            " (6,\n",
            "  '0.039*\"machine\" + 0.037*\"future\" + 0.037*\"predict\" + 0.037*\"datum\" + '\n",
            "  '0.037*\"clinical\" + 0.037*\"medicine\" + 0.037*\"big\" + 0.037*\"inference\" + '\n",
            "  '0.037*\"membership\" + 0.037*\"model\"'),\n",
            " (7,\n",
            "  '0.118*\"scale\" + 0.093*\"large\" + 0.064*\"tensorflow\" + 0.061*\"system\" + '\n",
            "  '0.034*\"distribute\" + 0.034*\"heterogeneous\" + 0.034*\"learn\" + '\n",
            "  '0.031*\"machine\" + 0.004*\"adversarial\" + 0.004*\"optimization\"')]\n"
          ],
          "name": "stdout"
        }
      ]
    },
    {
      "cell_type": "markdown",
      "metadata": {
        "id": "w_qmFiNzxH_8"
      },
      "source": [
        "LDA Topics\n",
        "\n",
        "\n",
        "*   Casting precipition torch environment using Machine Learning\n",
        "\n",
        "*  New practical learning network used for the perspective of next generation\n",
        "\n",
        "* Machine Leanring for optimization of the application systems\n",
        "\n",
        "* Descent survey scale system using gradient bioinformatic stochastic imaging\n",
        "\n",
        "* probabilistic implmented address in health care, ethical mining and artificial intelligence\n",
        "\n",
        "* Feature selection of high speed scikit base correlation corner using Machine Learning\n",
        "\n",
        "* Predicting clinical medicine and big inference membership model\n",
        "\n",
        "* Adversarial optimization using heterogenous tensorflow system\n",
        "\n"
      ]
    },
    {
      "cell_type": "markdown",
      "metadata": {
        "id": "hazPzukKTR0M"
      },
      "source": [
        "## (2) (8 points) Generate K topics by using LSA, the number of topics K should be decided by the coherence score, then summarize what are the topics. You may refer the code here:\n",
        "\n",
        "https://www.datacamp.com/community/tutorials/discovering-hidden-topics-python"
      ]
    },
    {
      "cell_type": "code",
      "metadata": {
        "id": "38bsh1lTTR0M"
      },
      "source": [
        "#import modules\n",
        "import os.path\n",
        "from gensim import corpora\n",
        "from gensim.models import LsiModel\n",
        "from nltk.tokenize import RegexpTokenizer\n",
        "from nltk.corpus import stopwords\n",
        "from nltk.stem.porter import PorterStemmer\n",
        "from gensim.models.coherencemodel import CoherenceModel\n",
        "import matplotlib.pyplot as plt"
      ],
      "execution_count": 26,
      "outputs": []
    },
    {
      "cell_type": "code",
      "metadata": {
        "id": "6-xAbeoM42Bi"
      },
      "source": [
        "def prepare_corpus(doc_clean):\n",
        "    \"\"\"\n",
        "    Input  : clean document\n",
        "    Purpose: create term dictionary of our courpus and Converting list of documents (corpus) into Document Term Matrix\n",
        "    Output : term dictionary and Document Term Matrix\n",
        "    \"\"\"\n",
        "    # Creating the term dictionary of our courpus, where every unique term is assigned an index. dictionary = corpora.Dictionary(doc_clean)\n",
        "    dictionary = corpora.Dictionary(doc_clean)\n",
        "    # Converting list of documents (corpus) into Document Term Matrix using dictionary prepared above.\n",
        "    doc_term_matrix = [dictionary.doc2bow(doc) for doc in doc_clean]\n",
        "    # generate LDA model\n",
        "    return dictionary,doc_term_matrix"
      ],
      "execution_count": 27,
      "outputs": []
    },
    {
      "cell_type": "code",
      "metadata": {
        "id": "WgIfikH642x9"
      },
      "source": [
        "def create_gensim_lsa_model(doc_clean,number_of_topics,words):\n",
        "    \"\"\"\n",
        "    Input  : clean document, number of topics and number of words associated with each topic\n",
        "    Purpose: create LSA model using gensim\n",
        "    Output : return LSA model\n",
        "    \"\"\"\n",
        "    dictionary,doc_term_matrix=prepare_corpus(doc_clean)\n",
        "    # generate LSA model\n",
        "    lsamodel = LsiModel(doc_term_matrix, num_topics=number_of_topics, id2word = dictionary)  # train model\n",
        "    print(lsamodel.print_topics(num_topics=number_of_topics, num_words=words))\n",
        "    return lsamodel"
      ],
      "execution_count": 28,
      "outputs": []
    },
    {
      "cell_type": "code",
      "metadata": {
        "id": "ocZUVy-a4-h6"
      },
      "source": [
        "def compute_coherence_values_lsa(dictionary, doc_term_matrix, doc_clean, stop, start=2, step=3):\n",
        "    \"\"\"\n",
        "    Input   : dictionary : Gensim dictionary\n",
        "              corpus : Gensim corpus\n",
        "              texts : List of input texts\n",
        "              stop : Max num of topics\n",
        "    purpose : Compute c_v coherence for various number of topics\n",
        "    Output  : model_list : List of LSA topic models\n",
        "              coherence_values : Coherence values corresponding to the LDA model with respective number of topics\n",
        "    \"\"\"\n",
        "    coherence_values = []\n",
        "    model_list = []\n",
        "    for num_topics in range(start, stop, step):\n",
        "        # generate LSA model\n",
        "        model = LsiModel(doc_term_matrix, num_topics=number_of_topics, id2word = dictionary)  # train model\n",
        "        model_list.append(model)\n",
        "        coherencemodel = CoherenceModel(model=model, texts=doc_clean, dictionary=dictionary, coherence='c_v')\n",
        "        coherence_values.append(coherencemodel.get_coherence())\n",
        "    return model_list, coherence_values"
      ],
      "execution_count": 29,
      "outputs": []
    },
    {
      "cell_type": "code",
      "metadata": {
        "id": "M6Ey7yej4_Wj"
      },
      "source": [
        "def plot_graph(doc_clean,start, stop, step):\n",
        "    dictionary,doc_term_matrix=prepare_corpus(doc_clean)\n",
        "    model_list, coherence_values_lsa = compute_coherence_values_lsa(dictionary, doc_term_matrix,doc_clean,\n",
        "                                                            stop, start, step)\n",
        "    # Show graph\n",
        "    x = range(start, stop, step)\n",
        "    plt.plot(x, coherence_values)\n",
        "    plt.xlabel(\"Number of Topics\")\n",
        "    plt.ylabel(\"Coherence score\")\n",
        "    plt.legend((\"coherence_values\"), loc='best')\n",
        "    plt.show()"
      ],
      "execution_count": 30,
      "outputs": []
    },
    {
      "cell_type": "code",
      "metadata": {
        "id": "hzrjP4Qt5CPz",
        "outputId": "436cdc74-9ad8-4c12-e7e7-0d7ade747632",
        "colab": {
          "base_uri": "https://localhost:8080/",
          "height": 281
        }
      },
      "source": [
        "start,stop,step=2,40,6\n",
        "plot_graph(data_lemmatized,start,stop,step)"
      ],
      "execution_count": 33,
      "outputs": [
        {
          "output_type": "display_data",
          "data": {
            "image/png": "[encoded data removed]",
            "text/plain": [
              "<Figure size 432x288 with 1 Axes>"
            ]
          },
          "metadata": {
            "tags": [],
            "needs_background": "light"
          }
        }
      ]
    },
    {
      "cell_type": "code",
      "metadata": {
        "id": "4_2S2i3q5HYL",
        "outputId": "79165132-c1e5-4e37-9ad6-32034b8d8e73",
        "colab": {
          "base_uri": "https://localhost:8080/",
          "height": 54
        }
      },
      "source": [
        "# LSA Model\n",
        "number_of_topics = 2\n",
        "words = 10\n",
        "model = create_gensim_lsa_model(data_lemmatized,number_of_topics,words)"
      ],
      "execution_count": 32,
      "outputs": [
        {
          "output_type": "stream",
          "text": [
            "[(0, '0.798*\"machine\" + 0.556*\"learning\" + 0.136*\"learn\" + 0.053*\"method\" + 0.052*\"system\" + 0.045*\"algorithm\" + 0.043*\"scale\" + 0.042*\"practical\" + 0.038*\"technique\" + 0.037*\"large\"'), (1, '-0.708*\"learn\" + 0.562*\"learning\" + -0.262*\"machine\" + -0.081*\"scale\" + -0.079*\"generation\" + -0.079*\"next\" + -0.079*\"network\" + -0.075*\"big\" + -0.070*\"large\" + -0.070*\"probabilistic\"')]\n"
          ],
          "name": "stdout"
        }
      ]
    },
    {
      "cell_type": "code",
      "metadata": {
        "id": "rY6MUDTuRzlk"
      },
      "source": [
        "dictionary,doc_term_matrix= prepare_corpus(data_lemmatized)\n",
        "model_list_lsa,coherence_values_lsa = compute_coherence_values_lsa(dictionary,doc_term_matrix,data_lemmatized,40,2,6)"
      ],
      "execution_count": 34,
      "outputs": []
    },
    {
      "cell_type": "code",
      "metadata": {
        "id": "PHhqxc8mPDhm",
        "outputId": "29252964-b256-4ab1-a249-ebbb2f6de742",
        "colab": {
          "base_uri": "https://localhost:8080/",
          "height": 134
        }
      },
      "source": [
        "for m, cv in zip(x, coherence_values_lsa):\n",
        "    print(\"Num Topics =\", m, \" has Coherence Value of\", round(cv, 4))"
      ],
      "execution_count": 35,
      "outputs": [
        {
          "output_type": "stream",
          "text": [
            "Num Topics = 2  has Coherence Value of 0.5747\n",
            "Num Topics = 8  has Coherence Value of 0.5747\n",
            "Num Topics = 14  has Coherence Value of 0.5747\n",
            "Num Topics = 20  has Coherence Value of 0.5747\n",
            "Num Topics = 26  has Coherence Value of 0.5747\n",
            "Num Topics = 32  has Coherence Value of 0.5747\n",
            "Num Topics = 38  has Coherence Value of 0.5747\n"
          ],
          "name": "stdout"
        }
      ]
    },
    {
      "cell_type": "markdown",
      "metadata": {
        "id": "cIeFUIDPxoE_"
      },
      "source": [
        "LSA Topics\n",
        "\n",
        "* Machine Learning for pratical system.\n",
        "\n",
        "* Large probabilistic big scale network of future learning generation"
      ]
    },
    {
      "cell_type": "markdown",
      "metadata": {
        "id": "sg18DeLpTR0P"
      },
      "source": [
        "## (3) (4 points) Compare the results generated by the two topic modeling algorithms, which one is better? You should explain the reasons in details."
      ]
    },
    {
      "cell_type": "markdown",
      "metadata": {
        "id": "TZxYNsf81tK6"
      },
      "source": [
        "For LDA: Latent Dirichlet Allocation\n",
        "\n",
        "Coherence Value = 0.7522\n",
        "\n",
        "Num Topics = 8  \n",
        "\n",
        "For LSA :Latent Semantic Analysis\n",
        "\n",
        "Coherence Value = 0.5284\n",
        "\n",
        "Num Topics = 2  \n",
        "\n",
        "LSA is a linear algebra method whereas LDA is probabilistic.LDA is easily the most effective topic modeling technique. Initially the coherence value is of 0.6995, later after increasing up the steps we have got the number of topics also increased. \n",
        "Overall i can say that LDA has the highest Coherence value that means LDA has more accuracy compared to that of LSA."
      ]
    }
  ]
}